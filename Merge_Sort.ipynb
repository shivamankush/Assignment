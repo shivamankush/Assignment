{
  "nbformat": 4,
  "nbformat_minor": 0,
  "metadata": {
    "colab": {
      "provenance": [],
      "authorship_tag": "ABX9TyOygvQgGbCLCOSyubrdnsRc",
      "include_colab_link": true
    },
    "kernelspec": {
      "name": "python3",
      "display_name": "Python 3"
    },
    "language_info": {
      "name": "python"
    }
  },
  "cells": [
    {
      "cell_type": "markdown",
      "metadata": {
        "id": "view-in-github",
        "colab_type": "text"
      },
      "source": [
        "<a href=\"https://colab.research.google.com/github/shivamankush/Assignment/blob/main/Merge_Sort.ipynb\" target=\"_parent\"><img src=\"https://colab.research.google.com/assets/colab-badge.svg\" alt=\"Open In Colab\"/></a>"
      ]
    },
    {
      "cell_type": "code",
      "execution_count": 12,
      "metadata": {
        "id": "EybZQfrlAjWr"
      },
      "outputs": [],
      "source": [
        "def mergeSort(arr):\n",
        "        if len(arr)==1:\n",
        "            return arr\n",
        "        mid=len(arr)//2\n",
        "        arr1=arr[:mid]\n",
        "        arr2=arr[mid:]\n",
        "        arr1=mergeSort(arr1)\n",
        "        arr2=mergeSort(arr2)\n",
        "        return merged_sorted(arr1,arr2)\n",
        "def merged_sorted(arr1,arr2):\n",
        "        merged=[]\n",
        "        i=j=0\n",
        "        while i<len(arr1) and j<len(arr2):\n",
        "            if arr1[i]<arr2[j]:\n",
        "                merged.append(arr1[i])\n",
        "                i+=1\n",
        "            else:\n",
        "                merged.append(arr2[j])\n",
        "                j+=1\n",
        "        while i<len(arr1):\n",
        "            merged.append(arr1[i])\n",
        "            i+=1\n",
        "        while j<len(arr2):\n",
        "            merged.append(arr2[j])\n",
        "            j+=1\n",
        "        return merged"
      ]
    },
    {
      "cell_type": "code",
      "source": [
        "arr=[4,1,3,9,7]\n",
        "mergeSort(arr)"
      ],
      "metadata": {
        "colab": {
          "base_uri": "https://localhost:8080/"
        },
        "id": "IITET0RjAvYJ",
        "outputId": "d223b0be-eed5-41aa-86b4-73e096c4c288"
      },
      "execution_count": 15,
      "outputs": [
        {
          "output_type": "execute_result",
          "data": {
            "text/plain": [
              "[1, 3, 4, 7, 9]"
            ]
          },
          "metadata": {},
          "execution_count": 15
        }
      ]
    }
  ]
}